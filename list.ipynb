{
  "nbformat": 4,
  "nbformat_minor": 0,
  "metadata": {
    "colab": {
      "name": "Untitled0.ipynb",
      "provenance": []
    },
    "kernelspec": {
      "name": "python3",
      "display_name": "Python 3"
    },
    "language_info": {
      "name": "python"
    }
  },
  "cells": [
    {
      "cell_type": "code",
      "metadata": {
        "id": "_n09aG-0AR2V"
      },
      "source": [
        "import pandas as pd"
      ],
      "execution_count": 1,
      "outputs": []
    },
    {
      "cell_type": "code",
      "metadata": {
        "id": "yaCGGQWnAlrS"
      },
      "source": [
        "df = pd.read_excel(\"VNR_GenC - 15 Sep.xlsx\")\n",
        "lf = pd.read_excel(\"Gen C Test shortlisted students VNRVJIET.xlsx\")\n"
      ],
      "execution_count": 3,
      "outputs": []
    },
    {
      "cell_type": "code",
      "metadata": {
        "id": "77Iqs49-A5Op"
      },
      "source": [
        "slot = df['Candidate Name'].values.tolist()\n",
        "shortlist = lf['Unnamed: 1'].values.tolist()"
      ],
      "execution_count": 11,
      "outputs": []
    },
    {
      "cell_type": "code",
      "metadata": {
        "colab": {
          "base_uri": "https://localhost:8080/"
        },
        "id": "L8YeroOhB3yc",
        "outputId": "fe12b42d-02c7-4939-ac1e-5a29b0092f48"
      },
      "source": [
        "shortlist = shortlist[1:]\n",
        "\n",
        "lst=[]\n",
        "\n",
        "for i in shortlist:\n",
        "  if i not in slot:\n",
        "    lst.append(i)\n",
        "  \n",
        "lst"
      ],
      "execution_count": 17,
      "outputs": [
        {
          "output_type": "execute_result",
          "data": {
            "text/plain": [
              "['L V V D S S Abhinav Bommisetty',\n",
              " 'Gummadi Lakshmi Deepika',\n",
              " 'Murali Krishna Koganti',\n",
              " 'Shreya Gowda',\n",
              " 'Basani Sai Kumar',\n",
              " 'RITISH REDDY BASWAREDDY',\n",
              " 'chandana kanchanapally',\n",
              " 'Roshan Kandagatla',\n",
              " 'Karumuri Chinmayi',\n",
              " 'Kaushik S Chundury',\n",
              " 'Vinay Sai Ramarao Perala',\n",
              " 'Shaik Feroz',\n",
              " 'gandla chandu',\n",
              " 'Krishna Sai Kandula',\n",
              " 'Ramachandruni Hruthik Chandra',\n",
              " 'Sai Naga Aasrith madireddy',\n",
              " 'siddhant awasthi',\n",
              " 'THALLAPELLY RAJ PUNIT',\n",
              " 'Lalith Kumar Vemula',\n",
              " 'AVINASH B',\n",
              " 'GOPICHAND DADIGALA',\n",
              " 'Sai varun daripalli',\n",
              " 'Gowtham kumar kolli',\n",
              " 'DILIP MEKALA',\n",
              " 'Venkata Sai Sravan Kumar Yella',\n",
              " 'Harish Thiramdas',\n",
              " 'Keerthi Manikanthan',\n",
              " 'Pilli Sai Snehith',\n",
              " 'A Sreedhar Reddy',\n",
              " 'SRIDARSI GODHA',\n",
              " 'Pavan Kalyan Gunti',\n",
              " 'srihari varma teja venkata katari',\n",
              " 'KATHULAPURAM RISHIKA',\n",
              " 'PAVAN REDDY KOLIPYAKA',\n",
              " 'Nazima Zahirun Shaik',\n",
              " 'Venu Thangallapally',\n",
              " 'Burkala Prashanth Kumar',\n",
              " 'JAKKIREDDY ALEKHYA REDDY',\n",
              " 'Nelluri Sai Ganesh',\n",
              " 'Vivek Shanthi Chandra Bollampally',\n",
              " 'MANASWINI DOMA',\n",
              " 'Jayanth Dondeti',\n",
              " 'Ajith Guduri',\n",
              " 'BHASKAR SAI KOTHALA',\n",
              " 'Praveen kumar Methri',\n",
              " 'Deepak Varma Rudraraju',\n",
              " 'Akshith Yerra',\n",
              " 'Sai Teja Meka',\n",
              " 'Navyath Reddy Billa',\n",
              " 'Shashi Kumar Katta',\n",
              " 'PREM CHANDRA SEKHAR REDDY METTUPALLI',\n",
              " 'Harshini Seshadri',\n",
              " 'Srinidhi Avala',\n",
              " 'VENKATA VARUN YALAKATURI',\n",
              " 'YANNAM NAVEEN REDDY',\n",
              " 'Sai Bhavana Kudithipudi',\n",
              " 'MUDDAM MANISHA',\n",
              " 'Chitneedi Tejaswi',\n",
              " 'Saif Shareef Mohammed',\n",
              " 'PALANKI JANAKI DEVI',\n",
              " 'SHAMITHA CHOUDARY GOTTIPATI',\n",
              " 'Kaiser Shareef Shaik',\n",
              " 'Shiva Teja Kura',\n",
              " 'Mankala Manihaar',\n",
              " 'Koushik Reddy Donthi Reddy',\n",
              " 'PRASHANTH RASA',\n",
              " 'ROHAN SIDDHARTH GUDLA',\n",
              " 'Shreya Reddy',\n",
              " 'Siddhartha Vaddempudi',\n",
              " 'Vamsi Krishna Vallabhaneni',\n",
              " 'VARSHITHA REDDY BASANI',\n",
              " 'Pravalika Bottu',\n",
              " 'Charitha G',\n",
              " 'VARSHITH GANDHE',\n",
              " 'Sathwik Raj Bodla',\n",
              " 'Sreemanth Cherukuri',\n",
              " 'Chinthala Akhil',\n",
              " 'DHARAVATH BHEEM SAGAR',\n",
              " 'Dilip Kumar Thatipamula',\n",
              " 'Preetham Thimmayapally',\n",
              " 'ESLAVATH NARESH',\n",
              " 'Pulagam Anusha',\n",
              " 'JAGGA SAI SUSHMITHA',\n",
              " 'BONKANPALLY VAISHNAVI',\n",
              " 'DURGAM GANESH',\n",
              " 'SK AAMER',\n",
              " 'Pariyada Pradeep Kumar',\n",
              " 'BANGARI RAJESH',\n",
              " 'KOTTURI VEERA VENKATA VYAGHRESWARARAO',\n",
              " 'prathyusha V S L',\n",
              " 'Buddiga Yogesh',\n",
              " 'Vinay Sasidhar Doma',\n",
              " 'Sai Pragnya Kasturi',\n",
              " 'Sunkari akshay kumar']"
            ]
          },
          "metadata": {},
          "execution_count": 17
        }
      ]
    },
    {
      "cell_type": "code",
      "metadata": {
        "id": "-ZaxVMLSB6NY"
      },
      "source": [
        ""
      ],
      "execution_count": null,
      "outputs": []
    }
  ]
}